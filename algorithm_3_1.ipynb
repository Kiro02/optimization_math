{
  "nbformat": 4,
  "nbformat_minor": 0,
  "metadata": {
    "colab": {
      "name": "これならわかる最適化数学.ipynb",
      "provenance": [],
      "authorship_tag": "ABX9TyPUu36jShAkQlOGMfJ/JSsY",
      "include_colab_link": true
    },
    "kernelspec": {
      "name": "python3",
      "display_name": "Python 3"
    }
  },
  "cells": [
    {
      "cell_type": "markdown",
      "metadata": {
        "id": "view-in-github",
        "colab_type": "text"
      },
      "source": [
        "<a href=\"https://colab.research.google.com/github/Kiro02/optimization_math/blob/master/algorithm_3_1.ipynb\" target=\"_parent\"><img src=\"https://colab.research.google.com/assets/colab-badge.svg\" alt=\"Open In Colab\"/></a>"
      ]
    },
    {
      "cell_type": "code",
      "metadata": {
        "id": "_zGx7wWEl8Jx",
        "colab_type": "code",
        "colab": {}
      },
      "source": [
        "import numpy as np"
      ],
      "execution_count": 0,
      "outputs": []
    },
    {
      "cell_type": "code",
      "metadata": {
        "id": "QPTtrwbMmChp",
        "colab_type": "code",
        "colab": {}
      },
      "source": [
        "def convex(x):\n",
        "  return - (x ** 2) + 4 * x +3"
      ],
      "execution_count": 0,
      "outputs": []
    },
    {
      "cell_type": "code",
      "metadata": {
        "id": "82lxd__hnIp4",
        "colab_type": "code",
        "colab": {}
      },
      "source": [
        "def line(x):\n",
        "  return -2 * x + 4"
      ],
      "execution_count": 0,
      "outputs": []
    },
    {
      "cell_type": "code",
      "metadata": {
        "id": "DMX9uzywmoMf",
        "colab_type": "code",
        "colab": {}
      },
      "source": [
        "def sgn(x):\n",
        "  if x > 0:\n",
        "    return 1\n",
        "  elif x == 0:\n",
        "    return 0\n",
        "  else:\n",
        "    return -1"
      ],
      "execution_count": 0,
      "outputs": []
    },
    {
      "cell_type": "code",
      "metadata": {
        "id": "6Iynq_67mO9k",
        "colab_type": "code",
        "colab": {
          "base_uri": "https://localhost:8080/",
          "height": 51
        },
        "outputId": "47cbe74b-03c4-4370-da7b-ead0a54ddae1"
      },
      "source": [
        "x = np.random.randn(1)\n",
        "h = 0.01\n",
        "eps = 1e-3\n",
        "gradient = line(x)\n",
        "\n",
        "while gradient > eps:\n",
        "  h = sgn(line(x)) * abs(h)\n",
        "  X = x\n",
        "  X_prime = x + h\n",
        "\n",
        "  if convex(X) < convex(X_prime):\n",
        "    while convex(X) < convex(X_prime):\n",
        "      h *= 2\n",
        "      X = X_prime\n",
        "    x = X\n",
        "    h /= 2\n",
        "\n",
        "  else:\n",
        "    while convex(X) > convex(X_prime):\n",
        "      h /= 2\n",
        "      X_prime = X_prime - h\n",
        "    x = X_prime\n",
        "    h *= 2\n",
        "  gradient = line(x)\n",
        "  y = convex(x)\n",
        "  #print(y)\n",
        "\n",
        "print(\"Max:\",y)\n",
        "print(\"X:\",x)"
      ],
      "execution_count": 12,
      "outputs": [
        {
          "output_type": "stream",
          "text": [
            "Max: [7.]\n",
            "X: [2.00001488]\n"
          ],
          "name": "stdout"
        }
      ]
    },
    {
      "cell_type": "code",
      "metadata": {
        "id": "CQW-6khPme67",
        "colab_type": "code",
        "colab": {}
      },
      "source": [
        ""
      ],
      "execution_count": 0,
      "outputs": []
    }
  ]
}